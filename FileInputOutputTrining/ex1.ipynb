{
 "cells": [
  {
   "cell_type": "code",
   "execution_count": 3,
   "metadata": {},
   "outputs": [
    {
     "data": {
      "text/plain": [
       "'/Users/parkjihyeon/Desktop/Data/Projcet_Python/DramaFileProcessing/FileInputOutputTrining'"
      ]
     },
     "execution_count": 3,
     "metadata": {},
     "output_type": "execute_result"
    }
   ],
   "source": [
    "import os\n",
    "os.getcwd()"
   ]
  },
  {
   "cell_type": "code",
   "execution_count": 5,
   "metadata": {},
   "outputs": [],
   "source": [
    "import os\n",
    "\n",
    "f = open('a.txt', 'r')\n",
    "f.write('나는 오늘 학교에 갔다.')\n",
    "f.close()"
   ]
  },
  {
   "cell_type": "code",
   "execution_count": null,
   "metadata": {},
   "outputs": [],
   "source": [
    "import os\n",
    "f = open('a.txt', 'r')\n",
    "f.read()\n",
    "'나는 오늘 학교에 갔다.'\n",
    "f.read() # 내용을 다 읽어서 현재 커서의 위치가 파일 끝에 가 있으므로 더 읽을 내용 없기 때문에 내용 다시 안 뜸\n",
    "''\n",
    "# f.seek() : 커서 위치 찾기 \n",
    "f.seek(0) # 문서 가장 처음으로 가기"
   ]
  },
  {
   "cell_type": "code",
   "execution_count": 6,
   "metadata": {},
   "outputs": [],
   "source": [
    "# 파일 닫기 자동으로 하기\n",
    "''' \n",
    "with open('파일 이름', '파일 열기 모드') as f:\n",
    "\tf에 수행할 명령 # 반드시 들여쓰기\n",
    "'''\n",
    "\t\n",
    "with open('test.txt', 'w') as f:\n",
    "    f.write('hello') \n",
    "\n"
   ]
  },
  {
   "cell_type": "code",
   "execution_count": 8,
   "metadata": {},
   "outputs": [],
   "source": [
    "# 한글 파일 오류 해결\n",
    "# 가장 쉽게 해결하는 방법\n",
    "import codecs\n",
    "f = codecs.open('한글 파일.txt', 'r', encoding = 'utf8')"
   ]
  }
 ],
 "metadata": {
  "kernelspec": {
   "display_name": "Python 3",
   "language": "python",
   "name": "python3"
  },
  "language_info": {
   "codemirror_mode": {
    "name": "ipython",
    "version": 3
   },
   "file_extension": ".py",
   "mimetype": "text/x-python",
   "name": "python",
   "nbconvert_exporter": "python",
   "pygments_lexer": "ipython3",
   "version": "3.11.7"
  }
 },
 "nbformat": 4,
 "nbformat_minor": 2
}
